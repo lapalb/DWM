{
  "nbformat": 4,
  "nbformat_minor": 0,
  "metadata": {
    "colab": {
      "name": "KNN.ipynb",
      "version": "0.3.2",
      "provenance": [],
      "toc_visible": true,
      "include_colab_link": true
    },
    "kernelspec": {
      "name": "python3",
      "display_name": "Python 3"
    }
  },
  "cells": [
    {
      "cell_type": "markdown",
      "metadata": {
        "id": "view-in-github",
        "colab_type": "text"
      },
      "source": [
        "[View in Colaboratory](https://colab.research.google.com/github/lapalb/DWM/blob/master/KNN.ipynb)"
      ]
    },
    {
      "metadata": {
        "id": "vsBZK6_pkIGf",
        "colab_type": "code",
        "colab": {}
      },
      "cell_type": "code",
      "source": [
        "#importing Libararies\n",
        "import numpy as np\n",
        "import pandas as pd\n",
        "import sklearn"
      ],
      "execution_count": 0,
      "outputs": []
    },
    {
      "metadata": {
        "id": "e7rmnhKHkSuH",
        "colab_type": "code",
        "colab": {}
      },
      "cell_type": "code",
      "source": [
        "#Reading the CSV File\n",
        "df=pd.read_csv('car.data.csv',sep=\",\",names = [\"Cost\", \"maintenace\", \"door\", \"person\",\"Luggage Boot\",\"Safety\",\"CarClass\"])\n",
        "\n",
        "#Importing the LabelEncoder\n",
        "from sklearn.preprocessing import LabelEncoder\n",
        "le=LabelEncoder()\n",
        "for i in df.columns:\n",
        "    df[i]=le.fit_transform(df[i])\n",
        "    \n"
      ],
      "execution_count": 0,
      "outputs": []
    },
    {
      "metadata": {
        "id": "N7c_gp6OkVXi",
        "colab_type": "code",
        "colab": {}
      },
      "cell_type": "code",
      "source": [
        "#Splitting The Data using train_test_split\n",
        "from sklearn.model_selection import train_test_split\n",
        "from sklearn.neighbors import KNeighborsClassifier\n",
        "import matplotlib.pyplot as plt\n",
        "sca=[]\n",
        "x_train,x_test,y_train,y_test=train_test_split(df[df.columns[:-1]],df['CarClass'],random_state=42,test_size=0.2)\n",
        "\n"
      ],
      "execution_count": 0,
      "outputs": []
    },
    {
      "metadata": {
        "id": "4-IoqdA_kWyg",
        "colab_type": "code",
        "colab": {
          "base_uri": "https://localhost:8080/",
          "height": 550
        },
        "outputId": "7444415e-b73e-4348-ede1-e87f5baace78"
      },
      "cell_type": "code",
      "source": [
        "#Doing the Cross Validation\n",
        "from sklearn.model_selection import cross_val_score\n",
        "sca=[]\n",
        "for i in range(1,30):\n",
        "    clf=KNeighborsClassifier(n_neighbors=i)\n",
        "    scores =1- cross_val_score(clf, x_train, y_train, cv=10)\n",
        "    print(\"Error on \" ,i , \" neigbours is \", scores.mean())\n",
        "    sca.append(scores.mean())\n",
        "ia=list(range(1,30))"
      ],
      "execution_count": 12,
      "outputs": [
        {
          "output_type": "stream",
          "text": [
            "Error on  1  neigbours is  0.18747740572613153\n",
            "Error on  2  neigbours is  0.23598412026681176\n",
            "Error on  3  neigbours is  0.13743026769669395\n",
            "Error on  4  neigbours is  0.13666860300579411\n",
            "Error on  5  neigbours is  0.09546025510610878\n",
            "Error on  6  neigbours is  0.09328082437228882\n",
            "Error on  7  neigbours is  0.09039760884022048\n",
            "Error on  8  neigbours is  0.09621096546219364\n",
            "Error on  9  neigbours is  0.10127338173304982\n",
            "Error on  10  neigbours is  0.12652721082177004\n",
            "Error on  11  neigbours is  0.13443536219617655\n",
            "Error on  12  neigbours is  0.15118774034480853\n",
            "Error on  13  neigbours is  0.1562983810978254\n",
            "Error on  14  neigbours is  0.16782955878629213\n",
            "Error on  15  neigbours is  0.17716703947766158\n",
            "Error on  16  neigbours is  0.17856288370837853\n",
            "Error on  17  neigbours is  0.18295364001089956\n",
            "Error on  18  neigbours is  0.1873174912755218\n",
            "Error on  19  neigbours is  0.19018468162992438\n",
            "Error on  20  neigbours is  0.18875112040437067\n",
            "Error on  21  neigbours is  0.19090425503951972\n",
            "Error on  22  neigbours is  0.18946502717446062\n",
            "Error on  23  neigbours is  0.1938289529136647\n",
            "Error on  24  neigbours is  0.19953757198844504\n",
            "Error on  25  neigbours is  0.1959718100565218\n",
            "Error on  26  neigbours is  0.20683156434297212\n",
            "Error on  27  neigbours is  0.20465266150251155\n",
            "Error on  28  neigbours is  0.2075726806205748\n",
            "Error on  29  neigbours is  0.21262995814528501\n"
          ],
          "name": "stdout"
        }
      ]
    },
    {
      "metadata": {
        "id": "d9VFkzB5_UwC",
        "colab_type": "code",
        "colab": {
          "base_uri": "https://localhost:8080/",
          "height": 365
        },
        "outputId": "f2dc71bd-53ac-4a26-f5e3-b7aefaefe62c"
      },
      "cell_type": "code",
      "source": [
        "plt.plot(ia,sca,\"-\")\n",
        "plt.scatter(ia,sca)\n",
        "plt.show()\n",
        "\n",
        "clf=KNeighborsClassifier(n_neighbors=7)\n",
        "clf.fit(x_train,y_train)\n",
        "print(clf.score(x_test,y_test))\n",
        "#plt.scatter(ia,sca)\n",
        "    "
      ],
      "execution_count": 13,
      "outputs": [
        {
          "output_type": "display_data",
          "data": {
            "image/png": "[encoded data removed]",
            "text/plain": [
              "<matplotlib.figure.Figure at 0x7fa8b4c06240>"
            ]
          },
          "metadata": {
            "tags": []
          }
        },
        {
          "output_type": "stream",
          "text": [
            "0.930635838150289\n"
          ],
          "name": "stdout"
        }
      ]
    },
    {
      "metadata": {
        "id": "3t4M30cE_WT4",
        "colab_type": "code",
        "colab": {}
      },
      "cell_type": "code",
      "source": [
        ""
      ],
      "execution_count": 0,
      "outputs": []
    },
    {
      "metadata": {
        "id": "DxLPd01n_xjz",
        "colab_type": "code",
        "colab": {}
      },
      "cell_type": "code",
      "source": [
        ""
      ],
      "execution_count": 0,
      "outputs": []
    }
  ]
}