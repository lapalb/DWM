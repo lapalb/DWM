{
  "nbformat": 4,
  "nbformat_minor": 0,
  "metadata": {
    "colab": {
      "name": "Condensed KNN.ipynb",
      "version": "0.3.2",
      "provenance": [],
      "toc_visible": true,
      "include_colab_link": true
    },
    "kernelspec": {
      "name": "python3",
      "display_name": "Python 3"
    }
  },
  "cells": [
    {
      "cell_type": "markdown",
      "metadata": {
        "id": "view-in-github",
        "colab_type": "text"
      },
      "source": [
        "[View in Colaboratory](https://colab.research.google.com/github/lapalb/DWM/blob/master/Condensed_KNN.ipynb)"
      ]
    },
    {
      "metadata": {
        "id": "WhoItxLtki3V",
        "colab_type": "code",
        "colab": {}
      },
      "cell_type": "code",
      "source": [
        "#Imporing Libraries\n",
        "import numpy as np\n",
        "import pandas as pd\n",
        "import sklearn"
      ],
      "execution_count": 0,
      "outputs": []
    },
    {
      "metadata": {
        "id": "s-8twgxIk1DT",
        "colab_type": "code",
        "colab": {}
      },
      "cell_type": "code",
      "source": [
        "#Loading the Datset\n",
        "from sklearn.datasets import load_iris\n",
        "iris=load_iris()"
      ],
      "execution_count": 0,
      "outputs": []
    },
    {
      "metadata": {
        "id": "YY3FL1MSlRvR",
        "colab_type": "code",
        "colab": {
          "base_uri": "https://localhost:8080/",
          "height": 34
        },
        "outputId": "e7721944-088a-45d7-8d10-95c7c0f3704f"
      },
      "cell_type": "code",
      "source": [
        "iris.keys()"
      ],
      "execution_count": 4,
      "outputs": [
        {
          "output_type": "execute_result",
          "data": {
            "text/plain": [
              "dict_keys(['data', 'target', 'target_names', 'DESCR', 'feature_names'])"
            ]
          },
          "metadata": {
            "tags": []
          },
          "execution_count": 4
        }
      ]
    },
    {
      "metadata": {
        "id": "s-ZmC449lT6p",
        "colab_type": "code",
        "colab": {}
      },
      "cell_type": "code",
      "source": [
        "X=iris.data\n",
        "y=iris.target"
      ],
      "execution_count": 0,
      "outputs": []
    },
    {
      "metadata": {
        "id": "YZejyQFrlgyD",
        "colab_type": "code",
        "colab": {
          "base_uri": "https://localhost:8080/",
          "height": 34
        },
        "outputId": "2ee92550-de1e-44a2-8c83-ad68895c40a2"
      },
      "cell_type": "code",
      "source": [
        "X.shape"
      ],
      "execution_count": 18,
      "outputs": [
        {
          "output_type": "execute_result",
          "data": {
            "text/plain": [
              "(150, 4)"
            ]
          },
          "metadata": {
            "tags": []
          },
          "execution_count": 18
        }
      ]
    },
    {
      "metadata": {
        "id": "vMp7B70Oli-4",
        "colab_type": "code",
        "colab": {
          "base_uri": "https://localhost:8080/",
          "height": 136
        },
        "outputId": "5bf734dc-3c79-427d-c76a-e143cef1935f"
      },
      "cell_type": "code",
      "source": [
        "from sklearn.preprocessing import LabelEncoder\n",
        "le=LabelEncoder()\n",
        "le.fit_transform(y)"
      ],
      "execution_count": 19,
      "outputs": [
        {
          "output_type": "execute_result",
          "data": {
            "text/plain": [
              "array([0, 0, 0, 0, 0, 0, 0, 0, 0, 0, 0, 0, 0, 0, 0, 0, 0, 0, 0, 0, 0, 0,\n",
              "       0, 0, 0, 0, 0, 0, 0, 0, 0, 0, 0, 0, 0, 0, 0, 0, 0, 0, 0, 0, 0, 0,\n",
              "       0, 0, 0, 0, 0, 0, 1, 1, 1, 1, 1, 1, 1, 1, 1, 1, 1, 1, 1, 1, 1, 1,\n",
              "       1, 1, 1, 1, 1, 1, 1, 1, 1, 1, 1, 1, 1, 1, 1, 1, 1, 1, 1, 1, 1, 1,\n",
              "       1, 1, 1, 1, 1, 1, 1, 1, 1, 1, 1, 1, 2, 2, 2, 2, 2, 2, 2, 2, 2, 2,\n",
              "       2, 2, 2, 2, 2, 2, 2, 2, 2, 2, 2, 2, 2, 2, 2, 2, 2, 2, 2, 2, 2, 2,\n",
              "       2, 2, 2, 2, 2, 2, 2, 2, 2, 2, 2, 2, 2, 2, 2, 2, 2, 2])"
            ]
          },
          "metadata": {
            "tags": []
          },
          "execution_count": 19
        }
      ]
    },
    {
      "metadata": {
        "id": "B5ujfjMNlpQn",
        "colab_type": "code",
        "colab": {}
      },
      "cell_type": "code",
      "source": [
        "from sklearn.model_selection import train_test_split\n",
        "X_train,X_test,y_train,y_test=train_test_split(X,y,random_state=42,test_size=0.2)"
      ],
      "execution_count": 0,
      "outputs": []
    },
    {
      "metadata": {
        "id": "ele_MPXdmBLX",
        "colab_type": "code",
        "colab": {
          "base_uri": "https://localhost:8080/",
          "height": 527
        },
        "outputId": "a51f9d52-2365-4828-c690-a9990fe76836"
      },
      "cell_type": "code",
      "source": [
        "from sklearn.neighbors import KNeighborsClassifier\n",
        "import matplotlib.pyplot as plt\n",
        "\n",
        "from sklearn.model_selection import cross_val_score\n",
        "sca=[]\n",
        "for i in range(1,30):\n",
        "    clf=KNeighborsClassifier(n_neighbors=i)\n",
        "    scores =cross_val_score(clf, X_train, y_train, cv=10)\n",
        "    print(\"Classification Score on \" ,i , \" neigbours is \", scores.mean())\n",
        "    sca.append(scores.mean())\n",
        "ia=list(range(1,30))\n",
        "print(\"Highest accuracy is \",max(sca),)"
      ],
      "execution_count": 30,
      "outputs": [
        {
          "output_type": "stream",
          "text": [
            "Classification Score on  1  neigbours is  0.9415501165501163\n",
            "Classification Score on  2  neigbours is  0.9332167832167831\n",
            "Classification Score on  3  neigbours is  0.94988344988345\n",
            "Classification Score on  4  neigbours is  0.94988344988345\n",
            "Classification Score on  5  neigbours is  0.94988344988345\n",
            "Classification Score on  6  neigbours is  0.9582167832167832\n",
            "Classification Score on  7  neigbours is  0.9415501165501163\n",
            "Classification Score on  8  neigbours is  0.9498834498834497\n",
            "Classification Score on  9  neigbours is  0.94988344988345\n",
            "Classification Score on  10  neigbours is  0.9415501165501163\n",
            "Classification Score on  11  neigbours is  0.9575757575757576\n",
            "Classification Score on  12  neigbours is  0.9492424242424242\n",
            "Classification Score on  13  neigbours is  0.9492424242424242\n",
            "Classification Score on  14  neigbours is  0.9575757575757574\n",
            "Classification Score on  15  neigbours is  0.9575757575757574\n",
            "Classification Score on  16  neigbours is  0.9575757575757574\n",
            "Classification Score on  17  neigbours is  0.9492424242424242\n",
            "Classification Score on  18  neigbours is  0.9492424242424242\n",
            "Classification Score on  19  neigbours is  0.9492424242424242\n",
            "Classification Score on  20  neigbours is  0.9492424242424242\n",
            "Classification Score on  21  neigbours is  0.9492424242424242\n",
            "Classification Score on  22  neigbours is  0.9415501165501163\n",
            "Classification Score on  23  neigbours is  0.9415501165501163\n",
            "Classification Score on  24  neigbours is  0.9332167832167831\n",
            "Classification Score on  25  neigbours is  0.9332167832167831\n",
            "Classification Score on  26  neigbours is  0.9332167832167831\n",
            "Classification Score on  27  neigbours is  0.9492424242424242\n",
            "Classification Score on  28  neigbours is  0.9415501165501163\n",
            "Classification Score on  29  neigbours is  0.9492424242424242\n",
            "Highest accuracy is  0.9582167832167832\n"
          ],
          "name": "stdout"
        }
      ]
    },
    {
      "metadata": {
        "id": "Cs4avGuYnP91",
        "colab_type": "code",
        "colab": {
          "base_uri": "https://localhost:8080/",
          "height": 527
        },
        "outputId": "085a5627-ed26-455f-d54a-c3d719d1e5cb"
      },
      "cell_type": "code",
      "source": [
        "from sklearn.model_selection import train_test_split\n",
        "X_train,X_test,y_train,y_test=train_test_split(X,y,random_state=63,test_size=0.2)\n",
        "from sklearn.neighbors import KNeighborsClassifier\n",
        "import matplotlib.pyplot as plt\n",
        "\n",
        "from sklearn.model_selection import cross_val_score\n",
        "sca=[]\n",
        "for i in range(1,30):\n",
        "    clf=KNeighborsClassifier(n_neighbors=i,weights=\"distance\")\n",
        "    scores =cross_val_score(clf, X_train, y_train, cv=10)\n",
        "    print(\"Classification Score on \" ,i , \" neigbours is \", scores.mean())\n",
        "    sca.append(scores.mean())\n",
        "ia=list(range(1,30))\n",
        "print(\"Highest accuracy is \",max(sca),)"
      ],
      "execution_count": 33,
      "outputs": [
        {
          "output_type": "stream",
          "text": [
            "Classification Score on  1  neigbours is  0.9512820512820512\n",
            "Classification Score on  2  neigbours is  0.9512820512820512\n",
            "Classification Score on  3  neigbours is  0.9673076923076923\n",
            "Classification Score on  4  neigbours is  0.9589743589743591\n",
            "Classification Score on  5  neigbours is  0.9589743589743591\n",
            "Classification Score on  6  neigbours is  0.9673076923076923\n",
            "Classification Score on  7  neigbours is  0.9673076923076923\n",
            "Classification Score on  8  neigbours is  0.9673076923076923\n",
            "Classification Score on  9  neigbours is  0.9589743589743591\n",
            "Classification Score on  10  neigbours is  0.9589743589743591\n",
            "Classification Score on  11  neigbours is  0.9512820512820512\n",
            "Classification Score on  12  neigbours is  0.9589743589743591\n",
            "Classification Score on  13  neigbours is  0.9589743589743591\n",
            "Classification Score on  14  neigbours is  0.9673076923076923\n",
            "Classification Score on  15  neigbours is  0.9589743589743591\n",
            "Classification Score on  16  neigbours is  0.9673076923076923\n",
            "Classification Score on  17  neigbours is  0.9673076923076923\n",
            "Classification Score on  18  neigbours is  0.9673076923076923\n",
            "Classification Score on  19  neigbours is  0.9512820512820512\n",
            "Classification Score on  20  neigbours is  0.9512820512820512\n",
            "Classification Score on  21  neigbours is  0.9512820512820512\n",
            "Classification Score on  22  neigbours is  0.9512820512820512\n",
            "Classification Score on  23  neigbours is  0.9512820512820512\n",
            "Classification Score on  24  neigbours is  0.9512820512820512\n",
            "Classification Score on  25  neigbours is  0.9512820512820512\n",
            "Classification Score on  26  neigbours is  0.9512820512820512\n",
            "Classification Score on  27  neigbours is  0.9512820512820512\n",
            "Classification Score on  28  neigbours is  0.9596153846153846\n",
            "Classification Score on  29  neigbours is  0.9596153846153846\n",
            "Highest accuracy is  0.9673076923076923\n"
          ],
          "name": "stdout"
        }
      ]
    },
    {
      "metadata": {
        "id": "PpMVqH4Onma8",
        "colab_type": "code",
        "colab": {}
      },
      "cell_type": "code",
      "source": [
        ""
      ],
      "execution_count": 0,
      "outputs": []
    }
  ]
}